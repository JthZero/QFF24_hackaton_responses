{
 "cells": [
  {
   "cell_type": "code",
   "execution_count": 1,
   "metadata": {},
   "outputs": [],
   "source": [
    "from qrng import QuantumRandomNumberGenerator"
   ]
  },
  {
   "cell_type": "code",
   "execution_count": 2,
   "metadata": {},
   "outputs": [],
   "source": [
    "# Initialize an instance of the class with 90000 possible results for example\n",
    "qrng1 = QuantumRandomNumberGenerator(90000)\n",
    "\n",
    "# Note: Since I've setup my IBMQ token already I don't need to pass it to the class but it is a requirement to provide your own"
   ]
  },
  {
   "cell_type": "code",
   "execution_count": 3,
   "metadata": {},
   "outputs": [
    {
     "name": "stdout",
     "output_type": "stream",
     "text": [
      "Fast Random Number: 44214\n"
     ]
    }
   ],
   "source": [
    "# Generate a fast random number\n",
    "random_number = qrng1.fast_random_number()\n",
    "print(f\"Fast Random Number: {random_number}\")"
   ]
  },
  {
   "cell_type": "code",
   "execution_count": 9,
   "metadata": {},
   "outputs": [],
   "source": [
    "# Since the gate error mitigation has higher computational requirements we run it on a smaller problem for this demo\n",
    "qrng2 = QuantumRandomNumberGenerator(17)"
   ]
  },
  {
   "cell_type": "code",
   "execution_count": 10,
   "metadata": {},
   "outputs": [
    {
     "name": "stdout",
     "output_type": "stream",
     "text": [
      "Gate-Error-Mitigated Random Number: 2\n"
     ]
    }
   ],
   "source": [
    "# Generate a random number with error mitigation\n",
    "mitigated_random_number = qrng2.gate_error_mit_random_number(mitigation_level = 0.5)\n",
    "print(f\"Gate-Error-Mitigated Random Number: {mitigated_random_number}\")"
   ]
  }
 ],
 "metadata": {
  "kernelspec": {
   "display_name": "venv",
   "language": "python",
   "name": "python3"
  },
  "language_info": {
   "codemirror_mode": {
    "name": "ipython",
    "version": 3
   },
   "file_extension": ".py",
   "mimetype": "text/x-python",
   "name": "python",
   "nbconvert_exporter": "python",
   "pygments_lexer": "ipython3",
   "version": "3.10.12"
  }
 },
 "nbformat": 4,
 "nbformat_minor": 2
}
